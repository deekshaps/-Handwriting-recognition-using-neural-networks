{
 "cells": [
  {
   "cell_type": "markdown",
   "metadata": {},
   "source": [
    "## TO DO LIST"
   ]
  },
  {
   "cell_type": "markdown",
   "metadata": {},
   "source": [
    "-  read the book\n"
   ]
  },
  {
   "cell_type": "markdown",
   "metadata": {},
   "source": [
    "- summarise the book\n"
   ]
  },
  {
   "cell_type": "markdown",
   "metadata": {},
   "source": [
    "- research about numpy pandas and sklearn"
   ]
  },
  {
   "cell_type": "markdown",
   "metadata": {},
   "source": [
    "### READ THE BOOK"
   ]
  },
  {
   "cell_type": "markdown",
   "metadata": {},
   "source": [
    "done"
   ]
  },
  {
   "cell_type": "markdown",
   "metadata": {},
   "source": [
    "### SUMMARIZE THE BOOK"
   ]
  },
  {
   "cell_type": "markdown",
   "metadata": {},
   "source": [
    "As the author says there are three ways of reading this book Machine learning for humans by Vishal Maini and Samer Sabri , i have chosen the 80/20 approach"
   ]
  },
  {
   "cell_type": "markdown",
   "metadata": {},
   "source": [
    "This book is a brief introduction to machine learning which is explained in very simple english with examples which makes it easier to understand "
   ]
  },
  {
   "cell_type": "markdown",
   "metadata": {},
   "source": [
    "In part 2.1 the authors talk about supervised learning , the two tasks of supervised learning regression and classification, he mainly talks about regression in this part , they brief us through supervised leaning and the different algorithms like Linear regression, Gradient descent by taking example of predicting annual income based on number of years of higher education\n",
    "he also speaks of the common problem in MI that is overfitting - : learning a function that perfectly\n",
    "explains the training data that the model learned from, but doesn’t generalize well to \n",
    "also tells the ways to deal with overfitting that is  Use more training data and  Use regularization\n",
    "\n",
    "In part 2.2 we learn about the classification task of supervised learning\n",
    "Two foundational classification methods: logistic regression and support\n",
    "vector machines (SVMs)\n",
    "\n",
    "In part 2.3 we learn about the non-parametric supervised learning algorithms: k-NN and decision\n",
    "trees\n",
    "\n",
    "In part 3 we learn about unsupervised learning we also discuss about K-means clustering \n",
    "\n",
    "In part 4 we learn about Neural Networks & Deep Learning the author briefly explains about neural networks and deep learning but does not talk about the implimentation part of it\n",
    "\n",
    "In part 5 we learn about reinforcement learning \n"
   ]
  },
  {
   "cell_type": "markdown",
   "metadata": {},
   "source": [
    "### RESEARCH ABOUT NUMPY, PANDAS AND SKLEARN"
   ]
  },
  {
   "cell_type": "code",
   "execution_count": null,
   "metadata": {},
   "outputs": [],
   "source": []
  }
 ],
 "metadata": {
  "kernelspec": {
   "display_name": "Python 3",
   "language": "python",
   "name": "python3"
  },
  "language_info": {
   "codemirror_mode": {
    "name": "ipython",
    "version": 3
   },
   "file_extension": ".py",
   "mimetype": "text/x-python",
   "name": "python",
   "nbconvert_exporter": "python",
   "pygments_lexer": "ipython3",
   "version": "3.7.4"
  }
 },
 "nbformat": 4,
 "nbformat_minor": 2
}
